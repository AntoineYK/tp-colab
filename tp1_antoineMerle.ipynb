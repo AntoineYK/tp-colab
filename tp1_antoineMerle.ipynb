{
  "nbformat": 4,
  "nbformat_minor": 0,
  "metadata": {
    "colab": {
      "provenance": [],
      "collapsed_sections": [
        "1xIH4eDHHE8u",
        "LDmaEOr1Hd-y",
        "yCz0xE6yKvO6",
        "FZnz62-PcrcH",
        "AYEzwHCFcXYB",
        "Bzi1XDhucaFu",
        "Fb_7Gs44cgoh",
        "mca30aEofsTv",
        "NbAPtD74erUd"
      ],
      "include_colab_link": true
    },
    "kernelspec": {
      "name": "python3",
      "display_name": "Python 3"
    },
    "language_info": {
      "name": "python"
    }
  },
  "cells": [
    {
      "cell_type": "markdown",
      "metadata": {
        "id": "view-in-github",
        "colab_type": "text"
      },
      "source": [
        "<a href=\"https://colab.research.google.com/github/AntoineYK/tp-colab/blob/main/tp1_antoineMerle.ipynb\" target=\"_parent\"><img src=\"https://colab.research.google.com/assets/colab-badge.svg\" alt=\"Open In Colab\"/></a>"
      ]
    },
    {
      "cell_type": "markdown",
      "source": [
        "#TP: PySpark pour analyse de données de films."
      ],
      "metadata": {
        "id": "orozSqBqFmPi"
      }
    },
    {
      "cell_type": "markdown",
      "source": [
        "Initialiser la session Spark"
      ],
      "metadata": {
        "id": "UOC65v49G4_q"
      }
    },
    {
      "cell_type": "code",
      "source": [
        "from pyspark.sql import SparkSession\n",
        "\n",
        "spark = SparkSession.builder.appName(\"MoviesData\").getOrCreate()"
      ],
      "metadata": {
        "id": "z9O1YhkcG127"
      },
      "execution_count": null,
      "outputs": []
    },
    {
      "cell_type": "markdown",
      "source": [
        "Charger le fichier CSV dans un DataFrame"
      ],
      "metadata": {
        "id": "1xIH4eDHHE8u"
      }
    },
    {
      "cell_type": "code",
      "source": [
        "file_path = \"Rotten Tomatoes Movies.csv\"\n",
        "df = spark.read.option(\"header\", \"true\").csv(file_path)\n",
        "\n",
        "df.show(10)"
      ],
      "metadata": {
        "id": "ZgyGl-7PHAT5"
      },
      "execution_count": null,
      "outputs": []
    },
    {
      "cell_type": "markdown",
      "source": [
        "### Supprimer les lignes contenant des valeurs nulles"
      ],
      "metadata": {
        "id": "LDmaEOr1Hd-y"
      }
    },
    {
      "cell_type": "code",
      "source": [
        "df_clean = df.dropna()\n",
        "\n",
        "df_clean.show(10)"
      ],
      "metadata": {
        "id": "SxYJ9fsvHJe6"
      },
      "execution_count": null,
      "outputs": []
    },
    {
      "cell_type": "markdown",
      "source": [
        "### Convertir les colonnes in_theaters_date et on_streaming_date au format yyyy-mm-dd"
      ],
      "metadata": {
        "id": "yCz0xE6yKvO6"
      }
    },
    {
      "cell_type": "code",
      "source": [
        "from pyspark.sql.functions import col, to_date"
      ],
      "metadata": {
        "id": "t2VSa7hqh3Qp"
      },
      "execution_count": null,
      "outputs": []
    },
    {
      "cell_type": "code",
      "source": [
        "df_clean = df_clean \\\n",
        "    .withColumn(\"in_theaters_date\", to_date(col(\"in_theaters_date\"), \"yyyy-mm-dd\")) \\\n",
        "    .withColumn(\"on_streaming_date\", to_date(col(\"on_streaming_date\"), \"yyyy-mm-dd\")) \\\n",
        "    .na.drop(subset=[\"in_theaters_date\", \"on_streaming_date\"])"
      ],
      "metadata": {
        "id": "WiBD3nAvJUtH"
      },
      "execution_count": null,
      "outputs": []
    },
    {
      "cell_type": "code",
      "source": [
        "df_clean.show(10)"
      ],
      "metadata": {
        "colab": {
          "base_uri": "https://localhost:8080/"
        },
        "id": "vtWwo3gAKIuC",
        "outputId": "0b67690b-0cbe-4587-e869-b758116f3fc0"
      },
      "execution_count": null,
      "outputs": [
        {
          "output_type": "stream",
          "name": "stdout",
          "text": [
            "+--------------------+--------------------+--------------------+------+--------------------+--------------------+--------------------+--------------------+----------------+-----------------+------------------+--------------------+------------------+------------------+-----------------+---------------+--------------+\n",
            "|         movie_title|          movie_info|   critics_consensus|rating|               genre|           directors|             writers|                cast|in_theaters_date|on_streaming_date|runtime_in_minutes|         studio_name|tomatometer_status|tomatometer_rating|tomatometer_count|audience_rating|audience_count|\n",
            "+--------------------+--------------------+--------------------+------+--------------------+--------------------+--------------------+--------------------+----------------+-----------------+------------------+--------------------+------------------+------------------+-----------------+---------------+--------------+\n",
            "|Percy Jackson & t...|A teenager discov...|Though it may see...|    PG|Action & Adventur...|      Chris Columbus|        Craig Titley|Logan Lerman, Bra...|      2010-02-12|       2010-06-29|                83|    20th Century Fox|            Rotten|                49|              144|             53|        254287|\n",
            "|         Please Give|Kate has a lot on...|Nicole Holofcener...|     R|              Comedy|   Nicole Holofcener|   Nicole Holofcener|Catherine Keener,...|      2010-04-30|       2010-10-19|                90|Sony Pictures Cla...|   Certified Fresh|                86|              140|             64|         11567|\n",
            "|20,000 Leagues Un...|This 1954 Disney ...|One of Disney's f...|     G|Action & Adventur...|   Richard Fleischer|         Earl Felton|James Mason, Kirk...|      1954-01-01|       2003-05-20|               127|              Disney|             Fresh|                89|               27|             74|         68860|\n",
            "|         10,000 B.C.|A young outcast f...|With attention st...| PG-13|Action & Adventur...|     Roland Emmerich|Roland Emmerich, ...|Steven Strait, Ca...|      2008-03-07|       2008-06-24|               109|Warner Bros. Pict...|            Rotten|                 8|              148|             37|        411087|\n",
            "|        The 39 Steps|A man in London t...|Packed with twist...|    NR|Action & Adventur...|    Alfred Hitchcock|Alma Reville, Cha...|Robert Donat, Mad...|      1935-08-01|       1935-06-06|                87|Gaumont British D...|   Certified Fresh|                96|               47|             86|         23827|\n",
            "|       The Lost City|Andy Garcia stars...|Its heart is in t...|     R|               Drama|         Andy Garcia|G. Cabrera Infant...|Andy Garcia, Dust...|      2005-09-03|       2006-08-08|               143|   Magnolia Pictures|            Rotten|                25|               83|             64|         25940|\n",
            "|The Bridge of San...|Thornton Wilder's...|Despite an all-st...|    PG|Art House & Inter...|      Mary McGuckian|      Mary McGuckian|Gabriel Byrne, F....|      2005-06-10|       2005-10-11|               120|  Fine Line Features|            Rotten|                 4|               24|             35|          1931|\n",
            "|            Criminal|A contemporary ca...|If you saw Nine Q...|     R|Drama, Mystery & ...|Greggory Jacobs, ...|Gregory Jacobs, F...|John C. Reilly, D...|      2004-09-24|       2005-04-12|                88|Warner Bros. Pict...|             Fresh|                69|              124|             57|          6702|\n",
            "|           Deep Blue|This comprehensiv...|Full of visually ...|     G|Documentary, Spec...|Andy Byatt, Alast...|Alastair Fothergi...|Pierce Brosnan, M...|      2005-06-17|       2006-04-11|                90|       Miramax Flims|             Fresh|                67|               52|             80|          4690|\n",
            "|    Tristan & Isolde|In the medieval l...|Competent but som...| PG-13|Drama, Science Fi...|      Kevin Reynolds|      Dean Georgaris|James Franco, Sop...|      2006-01-13|       2006-04-25|                99|    20th Century Fox|            Rotten|                31|              121|             71|        220945|\n",
            "+--------------------+--------------------+--------------------+------+--------------------+--------------------+--------------------+--------------------+----------------+-----------------+------------------+--------------------+------------------+------------------+-----------------+---------------+--------------+\n",
            "only showing top 10 rows\n",
            "\n"
          ]
        }
      ]
    },
    {
      "cell_type": "markdown",
      "source": [
        "### Filtre des films avec une note inférieure à 20"
      ],
      "metadata": {
        "id": "FZnz62-PcrcH"
      }
    },
    {
      "cell_type": "code",
      "source": [
        "df_filtered = df_clean.filter(col(\"tomatometer_rating\") < 20)\n",
        "\n",
        "df_under20 = df_filtered.orderBy(\"tomatometer_rating\", ascending=True)\n",
        "\n",
        "df_under20.show()"
      ],
      "metadata": {
        "colab": {
          "base_uri": "https://localhost:8080/"
        },
        "id": "XDaGdnSEVmtM",
        "outputId": "429210b0-c9cf-4f74-faec-99d58b32397e"
      },
      "execution_count": null,
      "outputs": [
        {
          "output_type": "stream",
          "name": "stdout",
          "text": [
            "+--------------------+--------------------+--------------------+------+--------------------+--------------------+--------------------+--------------------+----------------+-----------------+------------------+--------------------+------------------+------------------+-----------------+---------------+--------------+\n",
            "|         movie_title|          movie_info|   critics_consensus|rating|               genre|           directors|             writers|                cast|in_theaters_date|on_streaming_date|runtime_in_minutes|         studio_name|tomatometer_status|tomatometer_rating|tomatometer_count|audience_rating|audience_count|\n",
            "+--------------------+--------------------+--------------------+------+--------------------+--------------------+--------------------+--------------------+----------------+-----------------+------------------+--------------------+------------------+------------------+-----------------+---------------+--------------+\n",
            "|National Lampoon'...|American independ...|It aspires to Far...| PG-13|              Comedy|       Gary Preisler|       Gary Preisler|Will Friedle, Chr...|      2004-09-17|       2005-03-29|                87|MGM Home Entertai...|            Rotten|                 0|               44|             21|          6570|\n",
            "|                Scar|A young woman bes...|A nasty, witless ...|     R|Drama, Horror, My...|        Jed Weintrob|           Zack Ford|Angela Bettis, Ki...|      2007-05-20|       2006-09-26|                78|             Unknown|            Rotten|                 0|               18|             11|           688|\n",
            "|   Merci Docteur Rey|Andrew Litvack's ...|This overly wacky...|     R|Art House & Inter...|Andrew Litvack, A...|      Andrew Litvack|Dianne Wiest, Jan...|      2002-10-13|       2005-08-09|                91|    Regent Releasing|            Rotten|                 0|               22|             65|           548|\n",
            "|           Pinocchio|A remake of the c...|Roberto Benigni m...|     G|Art House & Inter...|     Roberto Benigni|Roberto Benigni, ...|Roberto Benigni, ...|      2002-12-25|       2003-07-15|               111|       Miramax Films|            Rotten|                 0|               54|             32|          8930|\n",
            "|     One Missed Call|Shannyn Sossamon ...|One of the weakes...| PG-13|Horror, Mystery &...|        Eric Valette|Andrew Klavan, Mi...|Shannyn Sossamon,...|      2008-01-04|       2008-04-22|                87|Warner Bros. Pict...|            Rotten|                 0|               80|             29|         61705|\n",
            "|    A Thousand Words|Eddie Murphy is J...|Dated jokes (A Th...| PG-13|       Comedy, Drama|       Brian Robbins|Brian Robbins, No...|Eddie Murphy, Ker...|      2012-03-09|       2012-06-26|                91|  Paramount Pictures|            Rotten|                 0|               57|             47|         74883|\n",
            "|       Problem Child|A yuppie couple a...|Mean-spirited and...|    PG|Comedy, Kids & Fa...|        Dennis Dugan|Scott Alexander, ...|John Ritter, Mich...|      1990-07-27|       1999-10-19|                81|  Universal Pictures|            Rotten|                 0|               29|             41|         55944|\n",
            "|Ballistic: Ecks v...|Two former govern...|A startlingly ine...|     R|Action & Adventur...|   Wych Kaosayananda|     Alan B. McElroy|Antonio Banderas,...|      2002-09-20|       2002-12-24|                91|Warner Bros. Pict...|            Rotten|                 0|              117|             19|         22975|\n",
            "|             Redline|Eddie Griffin and...|Redline has plent...| PG-13|  Action & Adventure|          Andy Cheng|Robert Foreman, R...|Nadia Bjorlin, Na...|      2007-04-13|       2007-08-21|                93|   Chicago Releasing|            Rotten|                 0|               27|             47|        104019|\n",
            "|         Cabin Fever|The story is fami...|No need for a qua...|     R|              Horror|      Travis Zariwny|Randy Pearlstein,...|Gage Golightly, M...|      2016-02-12|       2016-02-12|                99| Pelican Point Media|            Rotten|                 0|               28|             12|           659|\n",
            "|Return to the Blu...|This sequel to th...|Despite its lush ...| PG-13|Action & Adventur...|   William A. Graham|Henry De Vere Sta...|Milla Jovovich, B...|      1991-01-01|       2002-11-05|               101|Sony Pictures Hom...|            Rotten|                 0|               30|             41|         15828|\n",
            "|         Dark Crimes|Jim Carrey comman...|Dark Crimes is a ...|     R|               Drama|  Alexandros Avranas|        Jeremy Brock|Jim Carrey, Marto...|      2018-05-18|       2018-07-31|                92|         Saban Films|            Rotten|                 0|               35|             31|           907|\n",
            "|            Stratton|Stratton, a Speci...|Stratton's action...|     R|Action & Adventur...|          Simon West|Warren Davis II, ...|Dominic Cooper, A...|      2018-01-05|       2018-02-06|                95|SquareOne Enterta...|            Rotten|                 0|               34|             19|           176|\n",
            "|   Jaws: The Revenge|Lorraine Gary sta...|Illogical, tensio...| PG-13|Action & Adventur...|      Joseph Sargent|   Michael De Guzman|Lorraine Gary, Mi...|      1987-01-01|       1999-01-15|                89|  Universal Pictures|            Rotten|                 0|               35|             15|         88384|\n",
            "|Superbabies: Baby...|The adventure con...|A startling lack ...|    PG|Action & Adventur...|           Bob Clark|Steven Paul, Greg...|Jon Voight, Scott...|      2004-08-27|       2005-01-04|                89|                Sony|            Rotten|                 0|               45|             24|          6969|\n",
            "|   Killing Me Softly|The director of s...|Respected directo...|     R|Art House & Inter...|          Kaige Chen|      Kara Lindstrom|Heather Graham, J...|      2003-03-25|       2003-03-25|               100|                 MGM|            Rotten|                 0|               22|             40|          8459|\n",
            "|The Disappointmen...|In this psycholog...|The Disappointmen...|     R|Horror, Mystery &...|         D.J. Caruso|Wentworth Miller,...|Kate Beckinsale, ...|      2016-09-09|       2016-12-20|               100|  Relativity Studios|            Rotten|                 0|               25|             17|          3406|\n",
            "|       London Fields|Recently arrived ...|London Fields bun...|     R|  Mystery & Suspense|       Mathew Cullen|Mathew Cullen, Ro...|Amber Heard, Theo...|      2018-10-26|       2019-02-12|               108|    20th Century Fox|            Rotten|                 0|               35|             50|           354|\n",
            "|        Wagons East!|Tired of frontier...|Wagons East! is a...| PG-13|Comedy, Drama, We...|        Peter Markle|Jerry Abrahamson,...|John Candy, Richa...|      1994-08-26|       2002-06-18|               107|Artisan Entertain...|            Rotten|                 0|               29|             31|          7721|\n",
            "|Look Who's Talkin...|This final instal...|Look Who's Talkin...| PG-13|Comedy, Kids & Fa...|      Tom Ropelewski|Tom Ropelewski, L...|John Travolta, Ki...|      1993-11-05|       2002-06-11|                95|Sony Pictures Hom...|            Rotten|                 0|               25|             29|        185860|\n",
            "+--------------------+--------------------+--------------------+------+--------------------+--------------------+--------------------+--------------------+----------------+-----------------+------------------+--------------------+------------------+------------------+-----------------+---------------+--------------+\n",
            "only showing top 20 rows\n",
            "\n"
          ]
        }
      ]
    },
    {
      "cell_type": "markdown",
      "source": [
        "### Filtre des films sortis après l'année 2000"
      ],
      "metadata": {
        "id": "AYEzwHCFcXYB"
      }
    },
    {
      "cell_type": "code",
      "source": [
        "df_films_after_2000 = df_clean.filter(col(\"in_theaters_date\") > \"2000-01-01\")\n",
        "\n",
        "df_after2000 = df_films_after_2000.orderBy(\"in_theaters_date\", ascending=True)\n",
        "\n",
        "# Afficher les résultats\n",
        "df_after2000.show()"
      ],
      "metadata": {
        "colab": {
          "base_uri": "https://localhost:8080/"
        },
        "id": "DMIhThhna80W",
        "outputId": "1ea52950-4da2-4763-ba8f-c8bb54b44062"
      },
      "execution_count": null,
      "outputs": [
        {
          "output_type": "stream",
          "name": "stdout",
          "text": [
            "+--------------------+--------------------+--------------------+------+--------------------+--------------------+--------------------+--------------------+----------------+-----------------+------------------+--------------------+------------------+------------------+-----------------+---------------+--------------+\n",
            "|         movie_title|          movie_info|   critics_consensus|rating|               genre|           directors|             writers|                cast|in_theaters_date|on_streaming_date|runtime_in_minutes|         studio_name|tomatometer_status|tomatometer_rating|tomatometer_count|audience_rating|audience_count|\n",
            "+--------------------+--------------------+--------------------+------+--------------------+--------------------+--------------------+--------------------+----------------+-----------------+------------------+--------------------+------------------+------------------+-----------------+---------------+--------------+\n",
            "|           Supernova|Supernova chronic...|This is an insult...| PG-13|Horror, Science F...|Thomas Lee, Franc...|David Campbell Wi...|James Spader, Pet...|      2000-01-14|       2001-08-15|                90|              MGM/UA|            Rotten|                10|               61|             17|         11024|\n",
            "|          Holy Smoke|It's said that se...|Superb performanc...|     R|Art House & Inter...|        Jane Campion|Jane Campion, Ann...|Kate Winslet, Har...|      2000-01-14|       2001-12-04|               114|       Miramax Films|            Rotten|                45|               82|             47|          7826|\n",
            "|     What's Cooking?|That most America...|What's Cooking? i...| PG-13|       Comedy, Drama|     Gurinder Chadha|Paul Mayeda Berge...|Kyra Sedgwick, Me...|      2000-01-20|       2001-04-10|               118|    Trimark Pictures|            Rotten|                52|               66|             65|          1522|\n",
            "|         Down to You|\"This Big Apple-b...|Down to You is ru...| PG-13|     Comedy, Romance|       Kris Isacsson|       Kris Isacsson|Freddie Prinze Jr...|      2000-01-21|       2000-07-11|                91|             Miramax|            Rotten|                 3|               59|             49|         51502|\n",
            "|The Crow - Salvation|The third install...|The Crow: Salvati...|     R|Action & Adventur...|      Bharat Nalluri|    Chip Johannessen|Kirsten Dunst, Er...|      2000-01-23|       2001-03-20|               102|       Pacific Films|            Rotten|                22|                9|             43|         49005|\n",
            "|Crime & Punishmen...|Recalling both Th...|Despite the beaut...|     R|Art House & Inter...|         Rob Schmidt|         Larry Gross|Monica Keena, Vin...|      2000-01-24|       2001-01-02|               100|MGM Home Entertai...|            Rotten|                21|               29|             58|          3031|\n",
            "|       The Big Tease|Craig Ferguson, b...|The Big Tease may...|     R|Art House & Inter...|         Kevin Allen|Sacha Gervasi, Cr...|Craig Ferguson, F...|      2000-01-26|       2000-07-18|                86|WARNER BROTHERS P...|            Rotten|                56|               39|             55|          2497|\n",
            "| Love and Basketball|A young African-A...|Confident directi...| PG-13|      Drama, Romance|Gina Prince-Bythe...|Gina Prince-Bythe...|Sanaa Lathan, Oma...|      2000-01-26|       2000-10-10|               124|     New Line Cinema|   Certified Fresh|                82|               91|             95|        186826|\n",
            "| Eye of the Beholder|Part high-tech sp...|Improbable and mu...|     R|Drama, Mystery & ...|     Stephan Elliott|Stephan Elliott, ...|Ewan McGregor, As...|      2000-01-28|       2000-05-23|               101|Desintation Film ...|            Rotten|                 9|               87|             32|         10478|\n",
            "|          About Adam|Gerard Stembridge...|Although some of ...|     R|Art House & Inter...|   Gerard Stembridge|   Gerard Stembridge|Stuart Townsend, ...|      2000-01-28|       2001-10-23|                96|       Miramax Films|             Fresh|                68|               57|             47|          9432|\n",
            "|     Isn't She Great|Jacqueline Susann...|Bland material pr...|     R|       Comedy, Drama|      Andrew Bergman|        Paul Rudnick|Bette Midler, Nat...|      2000-01-28|       2000-07-18|                93|Universal Studios...|            Rotten|                25|               61|             39|          2628|\n",
            "|            Scream 3|In the third and ...|Despite some surp...|     R|              Horror|          Wes Craven|Ehren Kruger, Lae...|Neve Campbell, Da...|      2000-02-04|       2000-07-04|               116|     Dimension Films|            Rotten|                39|              121|             37|        404683|\n",
            "|             Gun Shy|In this action-la...|A dark comedy of ...|     R|              Comedy|       Eric Blakeney|       Eric Blakeney|Liam Neeson, Oliv...|      2000-02-04|       2001-10-30|               102|  Hollywood Pictures|            Rotten|                24|               42|             36|          5286|\n",
            "|             28 Days|Gwen Cummings is ...|Even though 28 Da...| PG-13|       Comedy, Drama|        Betty Thomas|      Susannah Grant|Sandra Bullock, V...|      2000-02-08|       2005-07-05|               103|   Columbia Pictures|            Rotten|                32|               84|             50|        319705|\n",
            "|         Pitch Black|In this science f...|Despite an intere...|     R|Horror, Science F...|         David Twohy|Jim Wheat, Ken Wh...|Vin Diesel, Radha...|      2000-02-18|       2000-10-24|               108|Gramercy Pictures...|            Rotten|                59|              109|             77|        278555|\n",
            "|          Hanging Up|Diane Keaton dire...|Though the screen...| PG-13|       Comedy, Drama|        Diane Keaton|Nora Ephron, Deli...|Meg Ryan, Diane K...|      2000-02-18|       2000-06-27|                95|Sony Pictures Hom...|            Rotten|                12|               85|             34|         21249|\n",
            "|The Whole Nine Yards|In this black com...|Despite a charmin...|     R|              Comedy|       Jonathan Lynn|     Mitchell Kapner|Bruce Willis, Mat...|      2000-02-18|       2000-07-18|                98|   Warner Home Video|            Rotten|                45|              100|             64|        211615|\n",
            "|Reindeer Games (D...|A burglar looking...|Despite a decent ...|     R|Action & Adventur...|  John Frankenheimer|        Ehren Kruger|Ben Affleck, Gary...|      2000-02-25|       2000-08-08|               104|     Dimension Films|            Rotten|                25|               88|             27|         43100|\n",
            "|The Million Dolla...|Set in 2001, a gr...|Critics say the w...|     R|Art House & Inter...|         Wim Wenders|      Nicholas Klein|Jeremy Davies, Mi...|      2000-02-25|       2001-06-12|               122|  Icon Entertainment|            Rotten|                25|               44|             68|         11380|\n",
            "|What Planet Are Y...|Garry Shandling m...|Though What Plane...|     R|Comedy, Horror, S...|Mike Nichols, Mik...|Garry Shandling, ...|Garry Shandling, ...|      2000-03-03|       2000-07-18|               105|   Columbia Pictures|            Rotten|                42|               77|             28|          5974|\n",
            "+--------------------+--------------------+--------------------+------+--------------------+--------------------+--------------------+--------------------+----------------+-----------------+------------------+--------------------+------------------+------------------+-----------------+---------------+--------------+\n",
            "only showing top 20 rows\n",
            "\n"
          ]
        }
      ]
    },
    {
      "cell_type": "markdown",
      "source": [
        "### La note moyenne des films par studio"
      ],
      "metadata": {
        "id": "Bzi1XDhucaFu"
      }
    },
    {
      "cell_type": "code",
      "source": [
        "from pyspark.sql.functions import avg, round"
      ],
      "metadata": {
        "id": "rdIPUJ6-boF3"
      },
      "execution_count": null,
      "outputs": []
    },
    {
      "cell_type": "code",
      "source": [
        "df_avg_studio = df_clean.groupBy(\"studio_name\").agg(\n",
        "    avg(\"tomatometer_rating\").alias(\"average_tomatometer_rating\")\n",
        ")\n",
        "\n",
        "#Afficher les résultats\n",
        "df_avg_studio.show()"
      ],
      "metadata": {
        "colab": {
          "base_uri": "https://localhost:8080/"
        },
        "id": "pFxOoAEUbSk_",
        "outputId": "1d87f424-719b-4407-97f3-2a82b6caaa7b"
      },
      "execution_count": null,
      "outputs": [
        {
          "output_type": "stream",
          "name": "stdout",
          "text": [
            "+--------------------+--------------------------+\n",
            "|         studio_name|average_tomatometer_rating|\n",
            "+--------------------+--------------------------+\n",
            "|    Relativity Media|         33.32142857142857|\n",
            "|  New World Pictures|         69.66666666666667|\n",
            "|Alluvial Film Com...|                      92.0|\n",
            "|       Shout Factory|                      65.0|\n",
            "|            El Deseo|                      84.0|\n",
            "|Oscilloscope Pict...|         80.36842105263158|\n",
            "|       Cavu Pictures|                      72.5|\n",
            "|        Toho Company|                      86.0|\n",
            "|  Fine Line Features|        60.785714285714285|\n",
            "|           HBO Video|         74.55555555555556|\n",
            "|             42 West|                      50.0|\n",
            "|   Empire Film Group|                      15.0|\n",
            "|        Disneynature|                      77.0|\n",
            "| Perdido Productions|                      71.0|\n",
            "|  Big World Pictures|                      77.5|\n",
            "|          Wellspring|                      67.6|\n",
            "|       October Films|                      82.8|\n",
            "|               GKIDS|                      88.0|\n",
            "|          NCM Fathom|                      74.0|\n",
            "|Electric City Ent...|                      82.0|\n",
            "+--------------------+--------------------------+\n",
            "only showing top 20 rows\n",
            "\n"
          ]
        }
      ]
    },
    {
      "cell_type": "markdown",
      "source": [
        "### La note moyenne des films par réalisateur (arrondi au 10ème)"
      ],
      "metadata": {
        "id": "Fb_7Gs44cgoh"
      }
    },
    {
      "cell_type": "code",
      "source": [
        "df_avg_studio = df_clean.groupBy(\"directors\").agg(\n",
        "    round(avg(\"tomatometer_rating\"), 1).alias(\"average_tomatometer_rating\")\n",
        ")\n",
        "\n",
        "#Afficher les résultats\n",
        "df_avg_studio.show()"
      ],
      "metadata": {
        "colab": {
          "base_uri": "https://localhost:8080/"
        },
        "id": "olbvHjbLcGtD",
        "outputId": "2112f798-2a9d-4177-a522-ffa1d5cc6b17"
      },
      "execution_count": null,
      "outputs": [
        {
          "output_type": "stream",
          "name": "stdout",
          "text": [
            "+--------------------+--------------------------+\n",
            "|           directors|average_tomatometer_rating|\n",
            "+--------------------+--------------------------+\n",
            "|    Laurence Olivier|                      91.0|\n",
            "|        Jim Jarmusch|                      74.6|\n",
            "|          John Wells|                      53.3|\n",
            "|Harry Elfont, Deb...|                      40.0|\n",
            "|         John Milius|                      66.0|\n",
            "|          Will Gluck|                      59.3|\n",
            "|          Rob Bowman|                      26.5|\n",
            "|       Paul Morrison|                      24.0|\n",
            "|        Michael Kang|                      87.0|\n",
            "|Molly Bingham, St...|                      82.0|\n",
            "|       Carlos Brooks|                      61.0|\n",
            "|      Chan-wook Park|                      77.6|\n",
            "|       Greg Pritikin|                      71.0|\n",
            "|        Zak Hilditch|                      86.0|\n",
            "|Jon Hurwitz, Hayd...|                      45.0|\n",
            "|    Peter Strickland|                      89.5|\n",
            "|       Peter Sattler|                      75.0|\n",
            "|     Larry Fessenden|                      81.5|\n",
            "|         Randy Moore|                      56.0|\n",
            "|         Josh Radnor|                      70.0|\n",
            "+--------------------+--------------------------+\n",
            "only showing top 20 rows\n",
            "\n"
          ]
        }
      ]
    },
    {
      "cell_type": "markdown",
      "source": [
        "### Diviser les genres multiples d’une colonne en genres individuels"
      ],
      "metadata": {
        "id": "mca30aEofsTv"
      }
    },
    {
      "cell_type": "code",
      "source": [
        "from pyspark.sql.functions import split, explode, col, ceil"
      ],
      "metadata": {
        "id": "NmVqAaPig9yb"
      },
      "execution_count": null,
      "outputs": []
    },
    {
      "cell_type": "code",
      "source": [
        "df_indiv_genres = df_clean \\\n",
        "    .withColumn(\"genre\", explode(split(col(\"genre\"), \",\\s*\")))\n",
        "\n",
        "df_indiv_genres.show()"
      ],
      "metadata": {
        "colab": {
          "base_uri": "https://localhost:8080/"
        },
        "id": "ckdJyW4vfezE",
        "outputId": "00c10765-ecb3-45ef-bfd0-03596466c5df"
      },
      "execution_count": null,
      "outputs": [
        {
          "output_type": "stream",
          "name": "stdout",
          "text": [
            "+--------------------+--------------------+--------------------+------+--------------------+--------------------+--------------------+--------------------+----------------+-----------------+------------------+--------------------+------------------+------------------+-----------------+---------------+--------------+\n",
            "|         movie_title|          movie_info|   critics_consensus|rating|               genre|           directors|             writers|                cast|in_theaters_date|on_streaming_date|runtime_in_minutes|         studio_name|tomatometer_status|tomatometer_rating|tomatometer_count|audience_rating|audience_count|\n",
            "+--------------------+--------------------+--------------------+------+--------------------+--------------------+--------------------+--------------------+----------------+-----------------+------------------+--------------------+------------------+------------------+-----------------+---------------+--------------+\n",
            "|Percy Jackson & t...|A teenager discov...|Though it may see...|    PG|  Action & Adventure|      Chris Columbus|        Craig Titley|Logan Lerman, Bra...|      2010-02-12|       2010-06-29|                83|    20th Century Fox|            Rotten|                49|              144|             53|        254287|\n",
            "|Percy Jackson & t...|A teenager discov...|Though it may see...|    PG|              Comedy|      Chris Columbus|        Craig Titley|Logan Lerman, Bra...|      2010-02-12|       2010-06-29|                83|    20th Century Fox|            Rotten|                49|              144|             53|        254287|\n",
            "|Percy Jackson & t...|A teenager discov...|Though it may see...|    PG|               Drama|      Chris Columbus|        Craig Titley|Logan Lerman, Bra...|      2010-02-12|       2010-06-29|                83|    20th Century Fox|            Rotten|                49|              144|             53|        254287|\n",
            "|Percy Jackson & t...|A teenager discov...|Though it may see...|    PG|Science Fiction &...|      Chris Columbus|        Craig Titley|Logan Lerman, Bra...|      2010-02-12|       2010-06-29|                83|    20th Century Fox|            Rotten|                49|              144|             53|        254287|\n",
            "|         Please Give|Kate has a lot on...|Nicole Holofcener...|     R|              Comedy|   Nicole Holofcener|   Nicole Holofcener|Catherine Keener,...|      2010-04-30|       2010-10-19|                90|Sony Pictures Cla...|   Certified Fresh|                86|              140|             64|         11567|\n",
            "|20,000 Leagues Un...|This 1954 Disney ...|One of Disney's f...|     G|  Action & Adventure|   Richard Fleischer|         Earl Felton|James Mason, Kirk...|      1954-01-01|       2003-05-20|               127|              Disney|             Fresh|                89|               27|             74|         68860|\n",
            "|20,000 Leagues Un...|This 1954 Disney ...|One of Disney's f...|     G|               Drama|   Richard Fleischer|         Earl Felton|James Mason, Kirk...|      1954-01-01|       2003-05-20|               127|              Disney|             Fresh|                89|               27|             74|         68860|\n",
            "|20,000 Leagues Un...|This 1954 Disney ...|One of Disney's f...|     G|       Kids & Family|   Richard Fleischer|         Earl Felton|James Mason, Kirk...|      1954-01-01|       2003-05-20|               127|              Disney|             Fresh|                89|               27|             74|         68860|\n",
            "|         10,000 B.C.|A young outcast f...|With attention st...| PG-13|  Action & Adventure|     Roland Emmerich|Roland Emmerich, ...|Steven Strait, Ca...|      2008-03-07|       2008-06-24|               109|Warner Bros. Pict...|            Rotten|                 8|              148|             37|        411087|\n",
            "|         10,000 B.C.|A young outcast f...|With attention st...| PG-13|            Classics|     Roland Emmerich|Roland Emmerich, ...|Steven Strait, Ca...|      2008-03-07|       2008-06-24|               109|Warner Bros. Pict...|            Rotten|                 8|              148|             37|        411087|\n",
            "|         10,000 B.C.|A young outcast f...|With attention st...| PG-13|               Drama|     Roland Emmerich|Roland Emmerich, ...|Steven Strait, Ca...|      2008-03-07|       2008-06-24|               109|Warner Bros. Pict...|            Rotten|                 8|              148|             37|        411087|\n",
            "|        The 39 Steps|A man in London t...|Packed with twist...|    NR|  Action & Adventure|    Alfred Hitchcock|Alma Reville, Cha...|Robert Donat, Mad...|      1935-08-01|       1935-06-06|                87|Gaumont British D...|   Certified Fresh|                96|               47|             86|         23827|\n",
            "|        The 39 Steps|A man in London t...|Packed with twist...|    NR|            Classics|    Alfred Hitchcock|Alma Reville, Cha...|Robert Donat, Mad...|      1935-08-01|       1935-06-06|                87|Gaumont British D...|   Certified Fresh|                96|               47|             86|         23827|\n",
            "|        The 39 Steps|A man in London t...|Packed with twist...|    NR|  Mystery & Suspense|    Alfred Hitchcock|Alma Reville, Cha...|Robert Donat, Mad...|      1935-08-01|       1935-06-06|                87|Gaumont British D...|   Certified Fresh|                96|               47|             86|         23827|\n",
            "|       The Lost City|Andy Garcia stars...|Its heart is in t...|     R|               Drama|         Andy Garcia|G. Cabrera Infant...|Andy Garcia, Dust...|      2005-09-03|       2006-08-08|               143|   Magnolia Pictures|            Rotten|                25|               83|             64|         25940|\n",
            "|The Bridge of San...|Thornton Wilder's...|Despite an all-st...|    PG|Art House & Inter...|      Mary McGuckian|      Mary McGuckian|Gabriel Byrne, F....|      2005-06-10|       2005-10-11|               120|  Fine Line Features|            Rotten|                 4|               24|             35|          1931|\n",
            "|The Bridge of San...|Thornton Wilder's...|Despite an all-st...|    PG|               Drama|      Mary McGuckian|      Mary McGuckian|Gabriel Byrne, F....|      2005-06-10|       2005-10-11|               120|  Fine Line Features|            Rotten|                 4|               24|             35|          1931|\n",
            "|The Bridge of San...|Thornton Wilder's...|Despite an all-st...|    PG|Faith & Spirituality|      Mary McGuckian|      Mary McGuckian|Gabriel Byrne, F....|      2005-06-10|       2005-10-11|               120|  Fine Line Features|            Rotten|                 4|               24|             35|          1931|\n",
            "|            Criminal|A contemporary ca...|If you saw Nine Q...|     R|               Drama|Greggory Jacobs, ...|Gregory Jacobs, F...|John C. Reilly, D...|      2004-09-24|       2005-04-12|                88|Warner Bros. Pict...|             Fresh|                69|              124|             57|          6702|\n",
            "|            Criminal|A contemporary ca...|If you saw Nine Q...|     R|  Mystery & Suspense|Greggory Jacobs, ...|Gregory Jacobs, F...|John C. Reilly, D...|      2004-09-24|       2005-04-12|                88|Warner Bros. Pict...|             Fresh|                69|              124|             57|          6702|\n",
            "+--------------------+--------------------+--------------------+------+--------------------+--------------------+--------------------+--------------------+----------------+-----------------+------------------+--------------------+------------------+------------------+-----------------+---------------+--------------+\n",
            "only showing top 20 rows\n",
            "\n"
          ]
        }
      ]
    },
    {
      "cell_type": "markdown",
      "source": [
        "### Calculer la durée moyenne des films pour chaque genre"
      ],
      "metadata": {
        "id": "NbAPtD74erUd"
      }
    },
    {
      "cell_type": "code",
      "source": [
        "average_runtime_by_genre = df_indiv_genres \\\n",
        "    .groupBy(\"genre\") \\\n",
        "    .agg(ceil(avg(col(\"runtime_in_minutes\").cast(\"float\"))).alias(\"average_runtime\")) \\\n",
        "    .orderBy(\"average_runtime\", ascending=False)\n",
        "\n",
        "average_runtime_by_genre.show()"
      ],
      "metadata": {
        "colab": {
          "base_uri": "https://localhost:8080/"
        },
        "id": "vN7-lZeqek91",
        "outputId": "02d9d773-3b4d-4d4d-baab-746adedd3f4e"
      },
      "execution_count": null,
      "outputs": [
        {
          "output_type": "stream",
          "name": "stdout",
          "text": [
            "+--------------------+---------------+\n",
            "|               genre|average_runtime|\n",
            "+--------------------+---------------+\n",
            "|            Classics|            116|\n",
            "|             Western|            116|\n",
            "|Faith & Spirituality|            112|\n",
            "|  Action & Adventure|            110|\n",
            "|               Drama|            110|\n",
            "|             Romance|            109|\n",
            "|Art House & Inter...|            108|\n",
            "|Science Fiction &...|            108|\n",
            "|  Mystery & Suspense|            107|\n",
            "|Musical & Perform...|            106|\n",
            "|    Sports & Fitness|            105|\n",
            "|         Cult Movies|            102|\n",
            "|              Comedy|            101|\n",
            "|       Anime & Manga|            100|\n",
            "|          Television|            100|\n",
            "|       Gay & Lesbian|            100|\n",
            "|    Special Interest|             99|\n",
            "|              Horror|             99|\n",
            "|         Documentary|             97|\n",
            "|       Kids & Family|             96|\n",
            "+--------------------+---------------+\n",
            "only showing top 20 rows\n",
            "\n"
          ]
        }
      ]
    }
  ]
}
